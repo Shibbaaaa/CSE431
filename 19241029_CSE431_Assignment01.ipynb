{
  "nbformat": 4,
  "nbformat_minor": 0,
  "metadata": {
    "colab": {
      "name": "19241029_CSE431_Assignment01.ipynb",
      "provenance": [],
      "authorship_tag": "ABX9TyM2kMbH28Q/l1cWU5IOFaIq",
      "include_colab_link": true
    },
    "kernelspec": {
      "name": "python3",
      "display_name": "Python 3"
    }
  },
  "cells": [
    {
      "cell_type": "markdown",
      "metadata": {
        "id": "view-in-github",
        "colab_type": "text"
      },
      "source": [
        "<a href=\"https://colab.research.google.com/github/Shibbaaaa/CSE431/blob/main/19241029_CSE431_Assignment01.ipynb\" target=\"_parent\"><img src=\"https://colab.research.google.com/assets/colab-badge.svg\" alt=\"Open In Colab\"/></a>"
      ]
    },
    {
      "cell_type": "code",
      "metadata": {
        "id": "izJAr_lyfnAU",
        "outputId": "076390ea-a4ca-4f78-b6fc-0242ec1c664c",
        "colab": {
          "base_uri": "https://localhost:8080/"
        }
      },
      "source": [
        "import re \n",
        "\n",
        "def matcher(lastName):\n",
        "    if(re.search(\"^[S][h]?a[r]*[i]?ar$\", lastName)):\n",
        "        print(lastName+\" is a positive match\")\n",
        "    else:\n",
        "        print(lastName+\" is not a positive match\")\n",
        "        \n",
        "matcher(\"Sharar\")\n",
        "matcher(\"Sarar\")\n",
        "matcher(\"Sharrar\")\n",
        "matcher(\"Shariar\")\n",
        "matcher(\"Shihab\")"
      ],
      "execution_count": 1,
      "outputs": [
        {
          "output_type": "stream",
          "text": [
            "Sharar is a positive match\n",
            "Sarar is a positive match\n",
            "Sharrar is a positive match\n",
            "Shariar is a positive match\n",
            "Shihab is not a positive match\n"
          ],
          "name": "stdout"
        }
      ]
    }
  ]
}